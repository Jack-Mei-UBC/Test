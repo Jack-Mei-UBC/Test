{
 "cells": [
  {
   "cell_type": "code",
   "execution_count": null,
   "id": "initial_id",
   "metadata": {
    "collapsed": true
   },
   "outputs": [],
   "source": [
    "from dotenv import load_dotenv\n",
    "import os\n",
    "import requests\n",
    "# Load environment variables from .env file\n",
    "load_dotenv()\n",
    "\n",
    "# Access the environment variables\n",
    "spotify_id = os.getenv('SPOTIFY_ID')\n",
    "api_secret = os.getenv('API_SECRET')"
   ]
  },
  {
   "cell_type": "code",
   "outputs": [],
   "source": [
    "# Fetch access token\n",
    "auth_response = requests.post(\n",
    "    'https://accounts.spotify.com/api/token',\n",
    "    data={\n",
    "        'grant_type': 'client_credentials',\n",
    "        'client_id': spotify_id,\n",
    "        'client_secret': api_secret,\n",
    "    }\n",
    ")\n",
    "auth_response_data = auth_response.json()\n",
    "access_token = auth_response_data['access_token']\n",
    "\n"
   ],
   "metadata": {
    "collapsed": false
   },
   "id": "dc4a7ffa38e4e6c5",
   "execution_count": null
  },
  {
   "cell_type": "code",
   "outputs": [],
   "source": [
    "# Fetch playlists\n",
    "headers = {\n",
    "    'Authorization': f'Bearer {access_token}'\n",
    "}\n",
    "response = requests.get('https://api.spotify.com/v1/users/jjrryyaa/playlists', headers=headers)\n",
    "playlists = response.json()['items']\n",
    "\n",
    "# Create a map of playlist names to tracks\n",
    "playlist_tracks = {}\n",
    "playlist_artists = {}\n",
    "playlist_artist_ids = {}\n",
    "\n",
    "for playlist in playlists:\n",
    "    playlist_name = playlist['name']\n",
    "    playlist_id = playlist['id']\n",
    "    tracks = []\n",
    "    offset = 0\n",
    "    limit = 45\n",
    "    while True:\n",
    "        tracks_response = requests.get(f'https://api.spotify.com/v1/playlists/{playlist_id}/tracks?limit={limit}&offset={offset}', headers=headers)\n",
    "        tracks_page = tracks_response.json()['items']\n",
    "        if not tracks_page:\n",
    "            break\n",
    "        tracks.extend(tracks_page)\n",
    "        offset += limit\n",
    "    track_names = [track['track']['name'] for track in tracks]\n",
    "    artists_names = [artist['name'] for track in tracks for artist in track['track']['artists']]\n",
    "    artist_id = [artist['id'] for track in tracks for artist in track['track']['artists']]\n",
    "    playlist_tracks[playlist_name] = track_names\n",
    "    playlist_artists[playlist_name] = artists_names\n",
    "    playlist_artist_ids[playlist_name] = artist_id\n"
   ],
   "metadata": {
    "collapsed": false
   },
   "id": "d8f35e9b3fc2b690",
   "execution_count": null
  },
  {
   "cell_type": "code",
   "outputs": [],
   "source": [
    "# Flatten the map of artists and query the genre for each artist\n",
    "from itertools import chain \n",
    "\n",
    "# Flatten the list of artists\n",
    "all_artists = list(chain.from_iterable(playlist_artists.values()))\n",
    "all_ids = list(chain.from_iterable(playlist_artist_ids.values()))\n",
    "artist_id_map = dict(zip(all_artists, all_ids))\n",
    "\n",
    "# Query the genre for each artist# Query the genre for each artist\n",
    "artist_genres = {}\n",
    "for i in range(0, len(artist_id_map), 45):\n",
    "    batch = list(artist_id_map.items())[i:i+45]\n",
    "    artist_ids = ','.join([artist_id for _, artist_id in batch])\n",
    "    artist_response = requests.get(f'https://api.spotify.com/v1/artists?ids={artist_ids}', headers=headers)\n",
    "    artist_data = artist_response.json()['artists']\n",
    "    for artist in artist_data:\n",
    "        artist_genres[artist['name']] = artist.get('genres', [])\n",
    "\n"
   ],
   "metadata": {
    "collapsed": false
   },
   "id": "15d9f694de285565",
   "execution_count": null
  },
  {
   "cell_type": "code",
   "outputs": [],
   "source": [
    "# Create a map of if any genre's names are a subsection of another\n",
    "genre_map = {}\n",
    "for artist, genres in artist_genres.items():\n",
    "    for genre in genres:\n",
    "        for other_genre in genres:\n",
    "            if genre != other_genre and genre in other_genre:\n",
    "                if other_genre not in genre_map:\n",
    "                    genre_map[other_genre] = set()\n",
    "                genre_map[other_genre].add(genre)\n"
   ],
   "metadata": {
    "collapsed": false
   },
   "id": "f60b50860fcef005",
   "execution_count": null
  },
  {
   "cell_type": "code",
   "outputs": [],
   "source": [
    "# Calculate the percentage genre for each playlist\n",
    "playlist_genre_percentage = {}\n",
    "for playlist_name, artists in playlist_artists.items():\n",
    "    genre_count = {}\n",
    "    for artist in artists:\n",
    "        genres = artist_genres.get(artist, [])\n",
    "        for genre in genres:\n",
    "            # Include sub-genres from the genre map\n",
    "            if len(genre_map.get(genre, [])) > 0:\n",
    "                for sub_genre in genre_map.get(genre, []):\n",
    "                    if not sub_genre in genres:\n",
    "                        genres.append(sub_genre)\n",
    "        for genre in genres:\n",
    "            genre_count[genre] = genre_count.get(genre, 0) + 1\n",
    "    total_artists = len(artists)\n",
    "    genre_percentage = {genre: (count / total_artists) * 100 for genre, count in genre_count.items()}\n",
    "    playlist_genre_percentage[playlist_name] = genre_percentage\n",
    "\n",
    "print(playlist_genre_percentage)"
   ],
   "metadata": {
    "collapsed": false
   },
   "id": "d992f144652c1d88",
   "execution_count": null
  },
  {
   "cell_type": "code",
   "outputs": [],
   "source": [
    "# Add visualization for the percentage genre for each playlist\n",
    "import matplotlib.pyplot as plt\n",
    "import numpy as np\n",
    "from wordcloud import WordCloud\n",
    "\n",
    "for playlist_name, genre_percentage in playlist_genre_percentage.items():\n",
    "    wordcloud = WordCloud(width=800, height=400, background_color ='white').generate_from_frequencies(genre_percentage)\n",
    "    plt.figure(figsize=(8, 4))\n",
    "    plt.imshow(wordcloud)\n",
    "    plt.axis('off')\n",
    "    plt.title(playlist_name)\n",
    "    plt.show()"
   ],
   "metadata": {
    "collapsed": false
   },
   "id": "6da9f37745f66d05",
   "execution_count": null
  },
  {
   "cell_type": "code",
   "outputs": [],
   "source": [],
   "metadata": {
    "collapsed": false
   },
   "id": "85011451b0338e64"
  }
 ],
 "metadata": {
  "kernelspec": {
   "display_name": "Python 3",
   "language": "python",
   "name": "python3"
  },
  "language_info": {
   "codemirror_mode": {
    "name": "ipython",
    "version": 2
   },
   "file_extension": ".py",
   "mimetype": "text/x-python",
   "name": "python",
   "nbconvert_exporter": "python",
   "pygments_lexer": "ipython2",
   "version": "2.7.6"
  }
 },
 "nbformat": 4,
 "nbformat_minor": 5
}
